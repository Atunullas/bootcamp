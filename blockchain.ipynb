{
 "cells": [
  {
   "cell_type": "markdown",
   "metadata": {},
   "source": [
    "### Welcome !! \n",
    "to this *hands-on* Blockchain development workshop"
   ]
  },
  {
   "cell_type": "markdown",
   "metadata": {},
   "source": [
    "This workshop will focus on the Immutability/Tamper-proof property of blockchain\n",
    "\n",
    "#### Immutablity\n",
    "Immutable means that something is not changed over time or cannot be changed.\n",
    "\n",
    "#### Hashes\n",
    "Almost all blockchain system uses hashes (especially cryptographic hashes) to make things immutable\n",
    "\n",
    "#### Blocks\n",
    "Blocks organize **transaction** in a certain data structure and add other metadata to it and seal it with a hash. The hash of a block is calculated from the data *(contents)*. \n",
    "\n",
    "#### Blockchain\n",
    "Blockchains are an **append only** data structure to links blocks. When a new block is being created the **hash** of the last block in the blockchain is also added as a metadata into this block. As blocks contain the hash of the previous block as metadata in this block, a **block-*chain*** is created.\n",
    "\n",
    "\n",
    "### How is immutablitiy achieved ?\n",
    "1. Block hash *(hash is calculated out of the contents of the block)*\n",
    "2. When a block hash fails, the whole chain fails *(every block has the hash of previous block)*\n",
    "3. Recreating the whole chain is infeasible\n",
    "    1. Proof-of-work\n",
    "    2. Private signatures"
   ]
  },
  {
   "cell_type": "markdown",
   "metadata": {},
   "source": [
    "### Pre-requisites\n",
    "Following are the things needed \n",
    "1. Any programming language\n",
    "2. Hashing library"
   ]
  },
  {
   "cell_type": "markdown",
   "metadata": {},
   "source": [
    "This workshop is created with Python, but feel free to implement this in any language that you are familiar with."
   ]
  },
  {
   "cell_type": "markdown",
   "metadata": {},
   "source": [
    "### Some Python Basics\n",
    "* List\n",
    "* Slicing\n",
    "* Iterator\n",
    "* Dict"
   ]
  },
  {
   "cell_type": "code",
   "execution_count": 2,
   "metadata": {},
   "outputs": [],
   "source": [
    "# This is a list\n",
    "mylist = [1,1,2,3,5,8]"
   ]
  },
  {
   "cell_type": "code",
   "execution_count": 5,
   "metadata": {},
   "outputs": [
    {
     "data": {
      "text/plain": [
       "7"
      ]
     },
     "execution_count": 5,
     "metadata": {},
     "output_type": "execute_result"
    }
   ],
   "source": [
    "len(mylist)"
   ]
  },
  {
   "cell_type": "code",
   "execution_count": 4,
   "metadata": {},
   "outputs": [
    {
     "data": {
      "text/plain": [
       "[1, 1, 2, 3, 5, 8, 13]"
      ]
     },
     "execution_count": 4,
     "metadata": {},
     "output_type": "execute_result"
    }
   ],
   "source": [
    "mylist.append(13)\n",
    "mylist"
   ]
  },
  {
   "cell_type": "markdown",
   "metadata": {},
   "source": [
    "List can be sliced as follows"
   ]
  },
  {
   "cell_type": "code",
   "execution_count": 6,
   "metadata": {},
   "outputs": [
    {
     "data": {
      "text/plain": [
       "[1, 2]"
      ]
     },
     "execution_count": 6,
     "metadata": {},
     "output_type": "execute_result"
    }
   ],
   "source": [
    "# List slicing\n",
    "mylist[1:3]"
   ]
  },
  {
   "cell_type": "code",
   "execution_count": 7,
   "metadata": {},
   "outputs": [
    {
     "data": {
      "text/plain": [
       "[1, 1, 2]"
      ]
     },
     "execution_count": 7,
     "metadata": {},
     "output_type": "execute_result"
    }
   ],
   "source": [
    "mylist[:3]\n"
   ]
  },
  {
   "cell_type": "code",
   "execution_count": 8,
   "metadata": {},
   "outputs": [
    {
     "data": {
      "text/plain": [
       "13"
      ]
     },
     "execution_count": 8,
     "metadata": {},
     "output_type": "execute_result"
    }
   ],
   "source": [
    "mylist[-1]\n"
   ]
  },
  {
   "cell_type": "code",
   "execution_count": 9,
   "metadata": {},
   "outputs": [
    {
     "data": {
      "text/plain": [
       "[8, 13]"
      ]
     },
     "execution_count": 9,
     "metadata": {},
     "output_type": "execute_result"
    }
   ],
   "source": [
    "mylist[-2:]"
   ]
  },
  {
   "cell_type": "markdown",
   "metadata": {},
   "source": [
    "### Iterators\n",
    "\n",
    "Any python type that impletements `__iter__()` method becomes an iterator. It can then be used in `for in [Object]` loops\n"
   ]
  },
  {
   "cell_type": "code",
   "execution_count": 10,
   "metadata": {},
   "outputs": [
    {
     "name": "stdout",
     "output_type": "stream",
     "text": [
      "1\n",
      "1\n",
      "2\n",
      "3\n",
      "5\n",
      "8\n",
      "13\n"
     ]
    }
   ],
   "source": [
    "for item in mylist:\n",
    "    print(item)"
   ]
  },
  {
   "cell_type": "markdown",
   "metadata": {},
   "source": [
    "### Dict \n",
    "Dictionaries are another builtin datatype like associative arrays in other languages"
   ]
  },
  {
   "cell_type": "code",
   "execution_count": 12,
   "metadata": {},
   "outputs": [
    {
     "data": {
      "text/plain": [
       "{'age': 32, 'country': 'India', 'name': 'Satheesh'}"
      ]
     },
     "execution_count": 12,
     "metadata": {},
     "output_type": "execute_result"
    }
   ],
   "source": [
    "person = { 'name': \"Satheesh\", 'country': \"India\", 'age': 32}\n",
    "person"
   ]
  },
  {
   "cell_type": "markdown",
   "metadata": {},
   "source": [
    "### Crypto Hash\n",
    "1. it is __deterministic__ so the same message always results in the same hash\n",
    "2. it is quick to compute the hash value for any given message\n",
    "3. it is __infeasible__ to generate a message from its hash value except by trying all possible messages\n",
    "4. a small change to a message should change the hash value so extensively that the new hash value appears uncorrelated with the old hash value\n",
    "5. it is __infeasible__ to find two different messages with the same hash value"
   ]
  },
  {
   "cell_type": "code",
   "execution_count": 15,
   "metadata": {},
   "outputs": [
    {
     "data": {
      "text/plain": [
       "'bcfea943fb6d2944749b028b857dcafe0879d4ccd395d95c95e84124e384078f'"
      ]
     },
     "execution_count": 15,
     "metadata": {},
     "output_type": "execute_result"
    }
   ],
   "source": [
    "import hashlib\n",
    "hashlib.sha256(\"Blockchain is simple\").hexdigest()"
   ]
  },
  {
   "cell_type": "code",
   "execution_count": 16,
   "metadata": {},
   "outputs": [
    {
     "data": {
      "text/plain": [
       "'a6cd67f548ed9f28c8288a90daf4fadd389a325b0f654489adaab4107667fbdf'"
      ]
     },
     "execution_count": 16,
     "metadata": {},
     "output_type": "execute_result"
    }
   ],
   "source": [
    "hashlib.sha256(\"Blockchain is Simple\").hexdigest()"
   ]
  },
  {
   "cell_type": "markdown",
   "metadata": {},
   "source": [
    "### jsonpickle\n",
    "jsonpickle is a library to serialize and deserialize python types to json"
   ]
  },
  {
   "cell_type": "code",
   "execution_count": 8,
   "metadata": {},
   "outputs": [
    {
     "data": {
      "text/plain": [
       "'{\"py/tuple\": [\"test\", 1, 3, \"four\"]}'"
      ]
     },
     "execution_count": 8,
     "metadata": {},
     "output_type": "execute_result"
    }
   ],
   "source": [
    "import jsonpickle\n",
    "jsonpickle.encode((\"test\", 1, 3, \"four\"))"
   ]
  },
  {
   "cell_type": "code",
   "execution_count": 9,
   "metadata": {},
   "outputs": [],
   "source": [
    "import datetime\n",
    "import hashlib\n",
    "from time import time\n",
    "import jsonpickle"
   ]
  },
  {
   "cell_type": "markdown",
   "metadata": {},
   "source": [
    "### Transaction\n",
    "Transaction type stores information about a transaction, this is a simplified version of a transaction. In reality it will have addition things like \n",
    "1. Input address\n",
    "2. Output address\n",
    "3. Signature for this transaction\n",
    "4. Units\n",
    "\n",
    "Based on these information the transaction id is generated"
   ]
  },
  {
   "cell_type": "code",
   "execution_count": 14,
   "metadata": {},
   "outputs": [],
   "source": [
    "class Transaction:\n",
    "    \"\"\"\n",
    "    Transaction stores the following information\n",
    "    1. Sender\n",
    "    2. Receiver\n",
    "    3. Amount\n",
    "    4. Timestamp\n",
    "    \n",
    "    TODO: Add a generated transaction ID based on some hashing technique \n",
    "    \"\"\"\n",
    "    def __init__(self, sender, receiver, amount):\n",
    "        self.sender = sender\n",
    "        self.receiver = receiver\n",
    "        self.amount = amount\n",
    "        self.timestamp = time()\n",
    "            \n",
    "    def __repr__(self):\n",
    "        return 'Transaction : {} sent {} units to {}'.format(\n",
    "            self.sender, self.amount, self.receiver\n",
    "        )"
   ]
  },
  {
   "cell_type": "code",
   "execution_count": 15,
   "metadata": {},
   "outputs": [],
   "source": [
    "a = Transaction(\"Satheesh\", \"Chaitra\", 10)\n",
    "b = Transaction(\"Chaitra\", \"Nala\", 5)"
   ]
  },
  {
   "cell_type": "code",
   "execution_count": 16,
   "metadata": {},
   "outputs": [
    {
     "name": "stdout",
     "output_type": "stream",
     "text": [
      "Transaction : Satheesh sent 10 units to Chaitra\n",
      "Transaction : Chaitra sent 5 units to Nala\n"
     ]
    }
   ],
   "source": [
    "print(a)\n",
    "print(b)"
   ]
  },
  {
   "cell_type": "markdown",
   "metadata": {},
   "source": [
    "#### Hash\n",
    "\n",
    "```\n",
    "hash=f(data)\n",
    "```"
   ]
  },
  {
   "cell_type": "code",
   "execution_count": 3,
   "metadata": {},
   "outputs": [],
   "source": [
    "def hash_message(data):\n",
    "    return hashlib.sha256(data).hexdigest()"
   ]
  },
  {
   "cell_type": "markdown",
   "metadata": {},
   "source": [
    "### Block\n",
    "Block are a way of organizing the transactions that also stores some metadata.\n",
    "\n"
   ]
  },
  {
   "cell_type": "code",
   "execution_count": 10,
   "metadata": {},
   "outputs": [],
   "source": [
    "class Block:\n",
    "    def __init__(self, blockchain = None):\n",
    "        self.transactions = []\n",
    "        self.prev_hash = None\n",
    "        self.height = None\n",
    "        if blockchain is not None:\n",
    "            self.prev_hash = blockchain[-1].hash\n",
    "            self.height = len(blockchain) + 1 \n",
    "        else:\n",
    "            self.height = 1\n",
    "        self.hash = None\n",
    "        self.timestamp = time()\n",
    "        #self.payload_hash = self._hash_payload()\n",
    "        self.transaction_count = 0;\n",
    "        \n",
    "    \n",
    "    def _hash_payload(self):\n",
    "        return self._hash_transactions()\n",
    "\n",
    "    def _hash_transactions(self):\n",
    "        curr_hash = \"\"\n",
    "        for tx in self.transactions:\n",
    "            txn_rep = curr_hash.join(jsonpickle.encode(tx))\n",
    "            curr_hash = hashlib.sha256(txn_rep).hexdigest()\n",
    "        return curr_hash\n",
    "    \n",
    "    def add_transaction(self, transaction):\n",
    "        self.transactions.append(transaction)\n",
    "        self.transaction_count = len(self.transactions)\n",
    "\n",
    "    def _hash_block(self):\n",
    "        self.payload_hash = self._hash_payload()\n",
    "        blockheader_data = {\n",
    "            'payload_hash' : self.payload_hash,\n",
    "            'timestamp' : self.timestamp,\n",
    "            'prev_hash' : self.prev_hash,\n",
    "            'total_transactions' : self.transaction_count\n",
    "        }\n",
    "        block_rep = jsonpickle.encode(blockheader_data)\n",
    "        return hashlib.sha256(block_rep).hexdigest()\n",
    "\n",
    "    def finalize(self):\n",
    "        self.hash = self._hash_block()\n",
    "    \n",
    "    def validate(self):\n",
    "        return self.hash == self._hash_block()"
   ]
  },
  {
   "cell_type": "code",
   "execution_count": 33,
   "metadata": {},
   "outputs": [],
   "source": [
    "block = Block()"
   ]
  },
  {
   "cell_type": "code",
   "execution_count": 34,
   "metadata": {},
   "outputs": [],
   "source": [
    "block.add_transaction(a)\n",
    "block.add_transaction(b)"
   ]
  },
  {
   "cell_type": "code",
   "execution_count": 35,
   "metadata": {},
   "outputs": [
    {
     "data": {
      "text/plain": [
       "2"
      ]
     },
     "execution_count": 35,
     "metadata": {},
     "output_type": "execute_result"
    }
   ],
   "source": [
    "block.transaction_count"
   ]
  },
  {
   "cell_type": "code",
   "execution_count": 19,
   "metadata": {},
   "outputs": [],
   "source": [
    "# setting jsonpickle options\n",
    "# 1. Sort the object by keys so we get consistent hash\n",
    "# 2. indent=4 for readablity\n",
    "jsonpickle.set_encoder_options(\"json\",sort_keys=True, indent=4)"
   ]
  },
  {
   "cell_type": "code",
   "execution_count": 36,
   "metadata": {},
   "outputs": [],
   "source": [
    "block.finalize()"
   ]
  },
  {
   "cell_type": "code",
   "execution_count": 37,
   "metadata": {},
   "outputs": [
    {
     "data": {
      "text/plain": [
       "True"
      ]
     },
     "execution_count": 37,
     "metadata": {},
     "output_type": "execute_result"
    }
   ],
   "source": [
    "block.validate()"
   ]
  },
  {
   "cell_type": "code",
   "execution_count": 22,
   "metadata": {},
   "outputs": [],
   "source": [
    "c = Transaction(\"Nala\", \"Simba\", 1)"
   ]
  },
  {
   "cell_type": "code",
   "execution_count": 23,
   "metadata": {},
   "outputs": [],
   "source": [
    "block.add_transaction(c)"
   ]
  },
  {
   "cell_type": "code",
   "execution_count": 24,
   "metadata": {},
   "outputs": [
    {
     "data": {
      "text/plain": [
       "False"
      ]
     },
     "execution_count": 24,
     "metadata": {},
     "output_type": "execute_result"
    }
   ],
   "source": [
    "block.validate()"
   ]
  },
  {
   "cell_type": "code",
   "execution_count": 38,
   "metadata": {},
   "outputs": [],
   "source": [
    "myblockchain = []"
   ]
  },
  {
   "cell_type": "code",
   "execution_count": 39,
   "metadata": {},
   "outputs": [],
   "source": [
    "myblockchain.append(block)"
   ]
  },
  {
   "cell_type": "markdown",
   "metadata": {},
   "source": [
    "### Validation\n",
    "Lets validate the entire blockchain by looping through and calling validate method on each block"
   ]
  },
  {
   "cell_type": "code",
   "execution_count": 40,
   "metadata": {},
   "outputs": [],
   "source": [
    "def validatechain(blockchain):\n",
    "    print(len(blockchain))\n",
    "    for block in blockchain:\n",
    "        if block.validate():\n",
    "            print(\"Block #{} is valid\".format(block.height))\n",
    "            if block.height != 1:\n",
    "                if block.prev_hash != blockchain[block.height-2].hash:\n",
    "                    print(\"Prev hash {} != Prev block hash {}\".format(block.prev_hash,\n",
    "                                                                      blockchain[block.height-2].hash))\n",
    "                    return False\n",
    "                print(\"Block #{} Prev hash {} == Prev block hash {}\".format(block.height, block.prev_hash,\n",
    "                                                                            blockchain[block.height-2].hash))\n",
    "        else:\n",
    "            print (\"Block {} is invalid\".format(block.height))\n",
    "            return False\n",
    "    else:\n",
    "        return True"
   ]
  },
  {
   "cell_type": "code",
   "execution_count": 41,
   "metadata": {},
   "outputs": [
    {
     "name": "stdout",
     "output_type": "stream",
     "text": [
      "1\n",
      "Block #1 is valid\n"
     ]
    },
    {
     "data": {
      "text/plain": [
       "True"
      ]
     },
     "execution_count": 41,
     "metadata": {},
     "output_type": "execute_result"
    }
   ],
   "source": [
    "validatechain(myblockchain)"
   ]
  },
  {
   "cell_type": "code",
   "execution_count": 42,
   "metadata": {},
   "outputs": [],
   "source": [
    "a = Transaction(\"Vintoh\", \"Jeeva\", 10)"
   ]
  },
  {
   "cell_type": "code",
   "execution_count": 43,
   "metadata": {},
   "outputs": [],
   "source": [
    "newblock = Block(myblockchain)\n",
    "newblock.add_transaction(a)\n",
    "newblock.finalize()"
   ]
  },
  {
   "cell_type": "code",
   "execution_count": 44,
   "metadata": {},
   "outputs": [],
   "source": [
    "myblockchain.append(newblock)"
   ]
  },
  {
   "cell_type": "code",
   "execution_count": 45,
   "metadata": {},
   "outputs": [
    {
     "name": "stdout",
     "output_type": "stream",
     "text": [
      "2\n",
      "Block #1 is valid\n",
      "Block #2 is valid\n",
      "Block #2 Prev hash c1daa2ee513ea8ae61d8cca6d2b4288ea94997133a24b927d3e32dcd6fd79aa7 == Prev block hash c1daa2ee513ea8ae61d8cca6d2b4288ea94997133a24b927d3e32dcd6fd79aa7\n"
     ]
    },
    {
     "data": {
      "text/plain": [
       "True"
      ]
     },
     "execution_count": 45,
     "metadata": {},
     "output_type": "execute_result"
    }
   ],
   "source": [
    "validatechain(myblockchain)"
   ]
  },
  {
   "cell_type": "markdown",
   "metadata": {},
   "source": [
    "### Functions to store and load the blockchain from FS"
   ]
  },
  {
   "cell_type": "code",
   "execution_count": 46,
   "metadata": {},
   "outputs": [],
   "source": [
    "def savechain(blockchain, datafile):\n",
    "    with open(datafile,\"wb\") as bf:\n",
    "        bf.write(jsonpickle.encode(blockchain))"
   ]
  },
  {
   "cell_type": "code",
   "execution_count": 47,
   "metadata": {},
   "outputs": [],
   "source": [
    "def loadchain(datafile):\n",
    "    with open(datafile) as bf:\n",
    "        return jsonpickle.loads(bf.read())"
   ]
  },
  {
   "cell_type": "code",
   "execution_count": 48,
   "metadata": {},
   "outputs": [],
   "source": [
    "savechain(myblockchain, \"blockchain.json\")"
   ]
  },
  {
   "cell_type": "markdown",
   "metadata": {},
   "source": [
    "### Inspect\n",
    "Now lets inspect the saved blockchain datastructure in the json format"
   ]
  },
  {
   "cell_type": "code",
   "execution_count": 49,
   "metadata": {},
   "outputs": [],
   "source": [
    "savedblockchain = loadchain(\"blockchain.json\")"
   ]
  },
  {
   "cell_type": "code",
   "execution_count": 50,
   "metadata": {},
   "outputs": [
    {
     "name": "stdout",
     "output_type": "stream",
     "text": [
      "2\n",
      "Block #1 is valid\n",
      "Block #2 is valid\n",
      "Block #2 Prev hash c1daa2ee513ea8ae61d8cca6d2b4288ea94997133a24b927d3e32dcd6fd79aa7 == Prev block hash c1daa2ee513ea8ae61d8cca6d2b4288ea94997133a24b927d3e32dcd6fd79aa7\n"
     ]
    },
    {
     "data": {
      "text/plain": [
       "True"
      ]
     },
     "execution_count": 50,
     "metadata": {},
     "output_type": "execute_result"
    }
   ],
   "source": [
    "validatechain(savedblockchain)"
   ]
  },
  {
   "cell_type": "code",
   "execution_count": null,
   "metadata": {},
   "outputs": [],
   "source": []
  }
 ],
 "metadata": {
  "kernelspec": {
   "display_name": "Python 2",
   "language": "python",
   "name": "python2"
  },
  "language_info": {
   "codemirror_mode": {
    "name": "ipython",
    "version": 2
   },
   "file_extension": ".py",
   "mimetype": "text/x-python",
   "name": "python",
   "nbconvert_exporter": "python",
   "pygments_lexer": "ipython2",
   "version": "2.7.15"
  }
 },
 "nbformat": 4,
 "nbformat_minor": 2
}
